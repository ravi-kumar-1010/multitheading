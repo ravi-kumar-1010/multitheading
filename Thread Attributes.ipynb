{
 "cells": [
  {
   "cell_type": "code",
   "execution_count": 1,
   "metadata": {},
   "outputs": [
    {
     "name": "stdout",
     "output_type": "stream",
     "text": [
      "Thread-6\n"
     ]
    }
   ],
   "source": [
    "from threading import Thread\n",
    "# create the thread\n",
    "thread = Thread()\n",
    "# report the thread name\n",
    "print(thread.name)"
   ]
  },
  {
   "cell_type": "code",
   "execution_count": 2,
   "metadata": {},
   "outputs": [
    {
     "name": "stdout",
     "output_type": "stream",
     "text": [
      "False\n"
     ]
    }
   ],
   "source": [
    "from threading import Thread\n",
    "# create the thread\n",
    "thread = Thread()\n",
    "# report the daemon attribute\n",
    "print(thread.daemon)"
   ]
  },
  {
   "cell_type": "code",
   "execution_count": 3,
   "metadata": {},
   "outputs": [
    {
     "name": "stdout",
     "output_type": "stream",
     "text": [
      "None\n",
      "20716\n"
     ]
    }
   ],
   "source": [
    "from threading import Thread\n",
    "# create the thread\n",
    "thread = Thread()\n",
    "# report the thread identifier\n",
    "print(thread.ident)\n",
    "# start the thread\n",
    "thread.start()\n",
    "# report the thread identifier\n",
    "print(thread.ident)"
   ]
  },
  {
   "cell_type": "code",
   "execution_count": 4,
   "metadata": {},
   "outputs": [
    {
     "name": "stdout",
     "output_type": "stream",
     "text": [
      "None\n",
      "5176\n"
     ]
    }
   ],
   "source": [
    "from threading import Thread\n",
    "# create the thread\n",
    "thread = Thread()\n",
    "# report the native thread identifier\n",
    "print(thread.native_id)\n",
    "# start the thread\n",
    "thread.start()\n",
    "# report the native thread identifier\n",
    "print(thread.native_id)"
   ]
  },
  {
   "cell_type": "code",
   "execution_count": 6,
   "metadata": {},
   "outputs": [
    {
     "name": "stdout",
     "output_type": "stream",
     "text": [
      "False\n",
      "True\n",
      "False\n"
     ]
    }
   ],
   "source": [
    "from time import sleep\n",
    "from threading import Thread\n",
    "# create the thread\n",
    "thread = Thread(target=lambda:sleep(1))\n",
    "# report the thread is alive\n",
    "print(thread.is_alive())\n",
    "# start the thread\n",
    "thread.start()\n",
    "# report the thread is alive\n",
    "print(thread.is_alive())\n",
    "# wait for the thread to finish\n",
    "thread.join()\n",
    "# report the thread is alive\n",
    "print(thread.is_alive())"
   ]
  },
  {
   "cell_type": "code",
   "execution_count": 7,
   "metadata": {},
   "outputs": [
    {
     "name": "stdout",
     "output_type": "stream",
     "text": [
      "MyThread\n"
     ]
    }
   ],
   "source": [
    "from threading import Thread\n",
    "# create a thread with a custom name\n",
    "thread = Thread(name='MyThread')\n",
    "# report thread name\n",
    "print(thread.name)"
   ]
  },
  {
   "cell_type": "code",
   "execution_count": 8,
   "metadata": {},
   "outputs": [
    {
     "name": "stdout",
     "output_type": "stream",
     "text": [
      "MyThread\n"
     ]
    }
   ],
   "source": [
    "from threading import Thread\n",
    "# create a thread\n",
    "thread = Thread()\n",
    "# set the name\n",
    "thread.name = 'MyThread'\n",
    "# report thread name\n",
    "print(thread.name)"
   ]
  },
  {
   "cell_type": "code",
   "execution_count": 9,
   "metadata": {},
   "outputs": [
    {
     "name": "stdout",
     "output_type": "stream",
     "text": [
      "True\n"
     ]
    }
   ],
   "source": [
    "from threading import Thread\n",
    "# create a daemon thread\n",
    "thread = Thread(daemon=True)\n",
    "# report if the thread is a daemon\n",
    "print(thread.daemon)"
   ]
  },
  {
   "cell_type": "code",
   "execution_count": 10,
   "metadata": {},
   "outputs": [
    {
     "name": "stdout",
     "output_type": "stream",
     "text": [
      "True\n"
     ]
    }
   ],
   "source": [
    "from threading import Thread\n",
    "# create a thread\n",
    "thread = Thread()\n",
    "# configure the thread to be a daemon\n",
    "thread.daemon = True\n",
    "# report if the thread is a daemon\n",
    "print(thread.daemon)"
   ]
  },
  {
   "cell_type": "code",
   "execution_count": 12,
   "metadata": {},
   "outputs": [
    {
     "name": "stdout",
     "output_type": "stream",
     "text": [
      "Waiting for the thread to finish\n",
      "This is coming from another thread\n",
      "Daemon thread:  True\n",
      "Got: 99\n"
     ]
    }
   ],
   "source": [
    "from time import sleep\n",
    "from threading import Thread\n",
    " \n",
    "# custom thread class\n",
    "class CustomThread(Thread):\n",
    "    # override the run function\n",
    "    def run(self):\n",
    "        # block for a moment\n",
    "        sleep(1)\n",
    "        # display a message\n",
    "        print('This is coming from another thread')\n",
    "        # store return value\n",
    "        self.value = 99\n",
    " \n",
    "# create the thread\n",
    "thread = CustomThread(daemon=True)\n",
    "# start the thread\n",
    "thread.start()\n",
    "# wait for the thread to finish\n",
    "print('Waiting for the thread to finish')\n",
    "thread.join()\n",
    "print('Daemon thread: ',thread.daemon)\n",
    "# get the value returned from run\n",
    "value = thread.value\n",
    "print(f'Got: {value}')"
   ]
  },
  {
   "cell_type": "code",
   "execution_count": null,
   "metadata": {},
   "outputs": [],
   "source": []
  }
 ],
 "metadata": {
  "interpreter": {
   "hash": "cabd9b9465f5446563c02a49673f20e993021516e3534949cbdc0753d9117ed6"
  },
  "kernelspec": {
   "display_name": "Python 3.9.7 ('base')",
   "language": "python",
   "name": "python3"
  },
  "language_info": {
   "codemirror_mode": {
    "name": "ipython",
    "version": 3
   },
   "file_extension": ".py",
   "mimetype": "text/x-python",
   "name": "python",
   "nbconvert_exporter": "python",
   "pygments_lexer": "ipython3",
   "version": "3.9.7"
  },
  "orig_nbformat": 4
 },
 "nbformat": 4,
 "nbformat_minor": 2
}
