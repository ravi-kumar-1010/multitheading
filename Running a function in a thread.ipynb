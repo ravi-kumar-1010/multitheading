{
 "cells": [
  {
   "cell_type": "code",
   "execution_count": 4,
   "metadata": {},
   "outputs": [
    {
     "name": "stdout",
     "output_type": "stream",
     "text": [
      "Waiting for the thread...\n",
      "This is from another thread\n"
     ]
    }
   ],
   "source": [
    "from time import sleep\n",
    "from threading import Thread\n",
    "def task():\n",
    "    # block for a moment\n",
    "    sleep(1)\n",
    "    # display a message\n",
    "    print('This is from another thread')\n",
    " \n",
    "# create a thread\n",
    "thread = Thread(target=task)\n",
    "# run the thread\n",
    "thread.start()\n",
    "# wait for the thread to finish\n",
    "print('Waiting for the thread...')\n",
    "thread.join()"
   ]
  },
  {
   "cell_type": "code",
   "execution_count": 5,
   "metadata": {},
   "outputs": [
    {
     "name": "stdout",
     "output_type": "stream",
     "text": [
      "Waiting for the thread...\n",
      "This is from another thread\n"
     ]
    }
   ],
   "source": [
    "from time import sleep\n",
    "from threading import Thread\n",
    "def task():\n",
    "    # block for a moment\n",
    "    sleep(1)\n",
    "    # display a message\n",
    "    print('This is from another thread')\n",
    " \n",
    "# create a thread\n",
    "thread = Thread(target=task)\n",
    "# run the thread\n",
    "thread.start()\n",
    "# wait for the thread to finish\n",
    "print('Waiting for the thread...')\n",
    "# thread.join()"
   ]
  },
  {
   "cell_type": "markdown",
   "metadata": {},
   "source": [
    "In the above code the Main thread doesn't wait for the thread to complete , it finishes executing the python script. "
   ]
  },
  {
   "cell_type": "code",
   "execution_count": null,
   "metadata": {},
   "outputs": [],
   "source": []
  }
 ],
 "metadata": {
  "interpreter": {
   "hash": "cabd9b9465f5446563c02a49673f20e993021516e3534949cbdc0753d9117ed6"
  },
  "kernelspec": {
   "display_name": "Python 3.9.7 ('base')",
   "language": "python",
   "name": "python3"
  },
  "language_info": {
   "codemirror_mode": {
    "name": "ipython",
    "version": 3
   },
   "file_extension": ".py",
   "mimetype": "text/x-python",
   "name": "python",
   "nbconvert_exporter": "python",
   "pygments_lexer": "ipython3",
   "version": "3.9.7"
  },
  "orig_nbformat": 4
 },
 "nbformat": 4,
 "nbformat_minor": 2
}
