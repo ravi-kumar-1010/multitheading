{
 "cells": [
  {
   "cell_type": "code",
   "execution_count": 1,
   "metadata": {},
   "outputs": [
    {
     "name": "stdout",
     "output_type": "stream",
     "text": [
      "From Main Thread\n",
      "From another Thread\n"
     ]
    }
   ],
   "source": [
    "from time import sleep\n",
    "from threading import Thread\n",
    "class Customthread(Thread):\n",
    "    def run(self):\n",
    "        sleep(1)\n",
    "        print('From another Thread')\n",
    "thread = Customthread()\n",
    "thread.start()\n",
    "print('From Main Thread')\n",
    "thread.join()"
   ]
  },
  {
   "cell_type": "code",
   "execution_count": 11,
   "metadata": {},
   "outputs": [
    {
     "name": "stdout",
     "output_type": "stream",
     "text": [
      "From Main Thread\n",
      "From another Thread\n"
     ]
    }
   ],
   "source": [
    "from time import sleep\n",
    "from threading import Thread\n",
    "class Customthread(Thread):\n",
    "    # override the constructor\n",
    "    def __init__(self):\n",
    "        # execute the base constructor\n",
    "        Thread.__init__(self)\n",
    "    def run(self):\n",
    "        sleep(1)\n",
    "        print('From another Thread')\n",
    "thread = Customthread()\n",
    "thread.start()\n",
    "print('From Main Thread')\n",
    "thread.join()"
   ]
  },
  {
   "cell_type": "code",
   "execution_count": 13,
   "metadata": {},
   "outputs": [
    {
     "name": "stdout",
     "output_type": "stream",
     "text": [
      "From Main Thread\n",
      "From another Thread\n"
     ]
    }
   ],
   "source": [
    "from time import sleep\n",
    "from threading import Thread\n",
    "class Customthread(Thread):\n",
    "    # override the constructor\n",
    "    def __init__(self, sleep_time):\n",
    "        # execute the base constructor\n",
    "        Thread.__init__(self)\n",
    "        # store the value\n",
    "        self.sleep_time = sleep_time\n",
    "    def run(self):\n",
    "        sleep(self.sleep_time)\n",
    "        print('From another Thread')\n",
    "thread = Customthread(1)\n",
    "thread.start()\n",
    "print('From Main Thread')\n",
    "thread.join()"
   ]
  },
  {
   "cell_type": "code",
   "execution_count": null,
   "metadata": {},
   "outputs": [],
   "source": []
  }
 ],
 "metadata": {
  "interpreter": {
   "hash": "cabd9b9465f5446563c02a49673f20e993021516e3534949cbdc0753d9117ed6"
  },
  "kernelspec": {
   "display_name": "Python 3.9.7 ('base')",
   "language": "python",
   "name": "python3"
  },
  "language_info": {
   "codemirror_mode": {
    "name": "ipython",
    "version": 3
   },
   "file_extension": ".py",
   "mimetype": "text/x-python",
   "name": "python",
   "nbconvert_exporter": "python",
   "pygments_lexer": "ipython3",
   "version": "3.9.7"
  },
  "orig_nbformat": 4
 },
 "nbformat": 4,
 "nbformat_minor": 2
}
