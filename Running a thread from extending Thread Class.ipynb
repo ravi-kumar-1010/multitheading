{
 "cells": [
  {
   "cell_type": "code",
   "execution_count": 1,
   "metadata": {},
   "outputs": [
    {
     "name": "stdout",
     "output_type": "stream",
     "text": [
      "From Main Thread\n",
      "From another Thread\n"
     ]
    }
   ],
   "source": [
    "from time import sleep\n",
    "from threading import Thread\n",
    "class Customthread(Thread):\n",
    "    def run(self):\n",
    "        sleep(1)\n",
    "        print('From another Thread')\n",
    "thread = Customthread()\n",
    "thread.start()\n",
    "print('From Main Thread')\n",
    "thread.join()"
   ]
  },
  {
   "cell_type": "code",
   "execution_count": 11,
   "metadata": {},
   "outputs": [
    {
     "name": "stdout",
     "output_type": "stream",
     "text": [
      "From Main Thread\n",
      "From another Thread\n"
     ]
    }
   ],
   "source": [
    "from time import sleep\n",
    "from threading import Thread\n",
    "class Customthread(Thread):\n",
    "    # override the constructor\n",
    "    def __init__(self):\n",
    "        # execute the base constructor\n",
    "        Thread.__init__(self)\n",
    "    def run(self):\n",
    "        sleep(1)\n",
    "        print('From another Thread')\n",
    "thread = Customthread()\n",
    "thread.start()\n",
    "print('From Main Thread')\n",
    "thread.join()"
   ]
  },
  {
   "cell_type": "code",
   "execution_count": 13,
   "metadata": {},
   "outputs": [
    {
     "name": "stdout",
     "output_type": "stream",
     "text": [
      "From Main Thread\n",
      "From another Thread\n"
     ]
    }
   ],
   "source": [
    "from time import sleep\n",
    "from threading import Thread\n",
    "class Customthread(Thread):\n",
    "    # override the constructor\n",
    "    def __init__(self, sleep_time):\n",
    "        # execute the base constructor\n",
    "        Thread.__init__(self)\n",
    "        # store the value\n",
    "        self.sleep_time = sleep_time\n",
    "    def run(self):\n",
    "        sleep(self.sleep_time)\n",
    "        print('From another Thread')\n",
    "thread = Customthread(1)\n",
    "thread.start()\n",
    "print('From Main Thread')\n",
    "thread.join()"
   ]
  },
  {
   "cell_type": "code",
   "execution_count": 14,
   "metadata": {},
   "outputs": [
    {
     "name": "stdout",
     "output_type": "stream",
     "text": [
      "Waiting for the thread to finish\n",
      "This is coming from another thread\n",
      "Got: 99\n"
     ]
    }
   ],
   "source": [
    "from time import sleep\n",
    "from threading import Thread\n",
    " \n",
    "# custom thread class\n",
    "class CustomThread(Thread):\n",
    "    # override the run function\n",
    "    def run(self):\n",
    "        # block for a moment\n",
    "        sleep(1)\n",
    "        # display a message\n",
    "        print('This is coming from another thread')\n",
    "        # store return value\n",
    "        self.value = 99\n",
    " \n",
    "# create the thread\n",
    "thread = CustomThread()\n",
    "# start the thread\n",
    "thread.start()\n",
    "# wait for the thread to finish\n",
    "print('Waiting for the thread to finish')\n",
    "thread.join()\n",
    "# get the value returned from run\n",
    "value = thread.value\n",
    "print(f'Got: {value}')"
   ]
  },
  {
   "cell_type": "code",
   "execution_count": null,
   "metadata": {},
   "outputs": [],
   "source": []
  }
 ],
 "metadata": {
  "interpreter": {
   "hash": "cabd9b9465f5446563c02a49673f20e993021516e3534949cbdc0753d9117ed6"
  },
  "kernelspec": {
   "display_name": "Python 3.9.7 ('base')",
   "language": "python",
   "name": "python3"
  },
  "language_info": {
   "codemirror_mode": {
    "name": "ipython",
    "version": 3
   },
   "file_extension": ".py",
   "mimetype": "text/x-python",
   "name": "python",
   "nbconvert_exporter": "python",
   "pygments_lexer": "ipython3",
   "version": "3.9.7"
  },
  "orig_nbformat": 4
 },
 "nbformat": 4,
 "nbformat_minor": 2
}
